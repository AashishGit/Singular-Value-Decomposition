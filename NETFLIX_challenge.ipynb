{
 "cells": [
  {
   "cell_type": "markdown",
   "metadata": {},
   "source": [
    "# Singular Value Decomposition for Netflix sample Dataset"
   ]
  },
  {
   "cell_type": "code",
   "execution_count": 1,
   "metadata": {},
   "outputs": [],
   "source": [
    "import pandas as pd\n",
    "import numpy as np\n",
    "from sklearn.metrics import mean_squared_error\n",
    "from scipy.linalg import svd\n",
    "import time"
   ]
  },
  {
   "cell_type": "code",
   "execution_count": 2,
   "metadata": {},
   "outputs": [],
   "source": [
    "def get_error(data, test_data):\n",
    "    data = np.array(data).flatten()\n",
    "    test_data = np.array(test_data).flatten()\n",
    "    mask = np.where(test_data!=0)\n",
    "    test_data = test_data[mask]\n",
    "    data = data[mask]\n",
    "    mse = mean_squared_error(test_data, data)\n",
    "    return mse"
   ]
  },
  {
   "cell_type": "code",
   "execution_count": 3,
   "metadata": {},
   "outputs": [],
   "source": [
    "def get_k_rank_approximation(S, k):\n",
    "    s = np.zeros(S.shape[0])\n",
    "    temp = S[:k]\n",
    "    s[:temp.shape[0]] = temp\n",
    "    Sigma = np.zeros((data.shape[0], data.shape[0]))\n",
    "    Sigma[:data.shape[1], :data.shape[1]] = np.diag(s)\n",
    "    W = pd.DataFrame(Sigma)\n",
    "    for i in range(671,1000):\n",
    "        W[i] = 0\n",
    "        \n",
    "    return W"
   ]
  },
  {
   "cell_type": "code",
   "execution_count": 4,
   "metadata": {},
   "outputs": [],
   "source": [
    "data = pd.read_csv('/home/drogon/Desktop/ELEG815/NETFLIX_data/ratingsData.csv', index_col = None, header = None)"
   ]
  },
  {
   "cell_type": "code",
   "execution_count": 5,
   "metadata": {},
   "outputs": [],
   "source": [
    "test_data = pd.read_csv('/home/drogon/Desktop/ELEG815/NETFLIX_data/ratingsTest.csv', index_col = None, header = None)"
   ]
  },
  {
   "cell_type": "code",
   "execution_count": 6,
   "metadata": {},
   "outputs": [
    {
     "name": "stdout",
     "output_type": "stream",
     "text": [
      "time taken 0.10169291496276855\n"
     ]
    }
   ],
   "source": [
    "# Calculate SVD of A\n",
    "t1 = time.time()\n",
    "U, S, VT = svd(data)\n",
    "t2 = time.time()\n",
    "print('time taken', t2-t1)"
   ]
  },
  {
   "cell_type": "code",
   "execution_count": 7,
   "metadata": {},
   "outputs": [],
   "source": [
    "#Calculate K-rank approximation\n",
    "S_4 = get_k_rank_approximation(S, 4)\n",
    "S_6 = get_k_rank_approximation(S, 6)\n",
    "S_8 = get_k_rank_approximation(S, 8)\n",
    "S_100 = get_k_rank_approximation(S, 100)"
   ]
  },
  {
   "cell_type": "code",
   "execution_count": 8,
   "metadata": {},
   "outputs": [],
   "source": [
    "#Regenerate data matrix from approximations\n",
    "A_4 = U.dot(S_4.dot(VT))\n",
    "A_6 = U.dot(S_6.dot(VT))\n",
    "A_8 = U.dot(S_8.dot(VT))\n",
    "A_100 = U.dot(S_100.dot(VT))"
   ]
  },
  {
   "cell_type": "code",
   "execution_count": 9,
   "metadata": {},
   "outputs": [
    {
     "name": "stdout",
     "output_type": "stream",
     "text": [
      "initial MSE:  13.753585723815878\n",
      "MSE(k=4):  7.164110292138707 , MSE(k=6):  6.921986559109156 , MSE(k=8):  7.184498388809927 , MSE(k=100):  12.971426207764738\n"
     ]
    }
   ],
   "source": [
    "#Get errors\n",
    "initial_error = get_error(data, test_data)\n",
    "error_4 = get_error(A_4, test_data)\n",
    "error_6 = get_error(A_6, test_data)\n",
    "error_8 = get_error(A_8, test_data)\n",
    "error_100 = get_error(A_100, test_data)\n",
    "print('initial MSE: ', initial_error)\n",
    "print('MSE(k=4): ',error_4, ', MSE(k=6): ',error_6, ', MSE(k=8): ',error_8, ', MSE(k=100): ',error_100)"
   ]
  }
 ],
 "metadata": {
  "kernelspec": {
   "display_name": "Python 3",
   "language": "python",
   "name": "python3"
  },
  "language_info": {
   "codemirror_mode": {
    "name": "ipython",
    "version": 3
   },
   "file_extension": ".py",
   "mimetype": "text/x-python",
   "name": "python",
   "nbconvert_exporter": "python",
   "pygments_lexer": "ipython3",
   "version": "3.7.3"
  }
 },
 "nbformat": 4,
 "nbformat_minor": 2
}
